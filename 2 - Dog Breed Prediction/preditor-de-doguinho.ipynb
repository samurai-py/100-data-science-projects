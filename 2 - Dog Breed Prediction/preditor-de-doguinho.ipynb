{
 "cells": [
  {
   "cell_type": "markdown",
   "id": "2d7bf760",
   "metadata": {},
   "source": [
    "# Dog Breed Prediction"
   ]
  },
  {
   "cell_type": "markdown",
   "id": "84b63699",
   "metadata": {},
   "source": [
    "Nesse projeto, iremos entender como usar o Keras e TensorFlow para construir, treinar e testar uma Rede Neural Convolucional capaz de identificar a raça de um cão em uma imagem. Esse é um problema de **aprendizado supervisionado**, mais especificamente um problema de ***classificaçõo múltipla***."
   ]
  },
  {
   "cell_type": "markdown",
   "id": "069abf20",
   "metadata": {},
   "source": [
    "Vamos conectar ao Kaggle usando Kaggle API que pode ser baixada pelas configurações da sua conta."
   ]
  },
  {
   "cell_type": "code",
   "execution_count": 1,
   "id": "156cbf8e",
   "metadata": {},
   "outputs": [],
   "source": [
    "#Install the Kaggle API client\n",
    "!pip install -q kaggle"
   ]
  },
  {
   "cell_type": "code",
   "execution_count": 8,
   "id": "374ae67f",
   "metadata": {},
   "outputs": [],
   "source": [
    "# The Kaggle API client expects this file to be in ~/.kaggle, so move it there\n",
    "\n",
    "# This permissions change avoids a warning on Kaggle tool startup\n",
    "#!chmod 600 /kaggle/kaggle.json"
   ]
  },
  {
   "cell_type": "markdown",
   "id": "9b0e2f1c",
   "metadata": {},
   "source": [
    "Para guardar os dados, iremos criar um novo diretório "
   ]
  },
  {
   "cell_type": "code",
   "execution_count": 9,
   "id": "571d42ec",
   "metadata": {},
   "outputs": [
    {
     "name": "stdout",
     "output_type": "stream",
     "text": [
      "C:\\Users\\marioestevao\\OneDrive\\Área de Trabalho\\100-projects-data-science\\2 - Dog Breed Prediction\\dog_dataset\n"
     ]
    }
   ],
   "source": [
    "#Creating directory and changing the current working directory\n",
    "!mkdir dog_dataset\n",
    "%cd dog_dataset"
   ]
  },
  {
   "cell_type": "code",
   "execution_count": 12,
   "id": "e4f58737",
   "metadata": {},
   "outputs": [
    {
     "name": "stdout",
     "output_type": "stream",
     "text": [
      "ref                                title                    size  lastUpdated          downloadCount  voteCount  usabilityRating  \n",
      "---------------------------------  ----------------------  -----  -------------------  -------------  ---------  ---------------  \n",
      "catherinehorng/dogbreedidfromcomp  dog-breed-id-from-comp  691MB  2020-06-26 03:09:05           1558          6  0.1764706        \n"
     ]
    }
   ],
   "source": [
    "!kaggle datasets list -s dogbreedidfromcomp"
   ]
  },
  {
   "cell_type": "markdown",
   "id": "4bd85150",
   "metadata": {},
   "source": [
    "Serch option: -s\n",
    "\n",
    "Nós também podemos procurar diferentes opções de pesquisa como competitions, notebooks, kernels, datasets, etc."
   ]
  },
  {
   "cell_type": "code",
   "execution_count": null,
   "id": "abf3737d",
   "metadata": {},
   "outputs": [],
   "source": [
    "#Downloading dataset and coming out of directory\n",
    "!kaggle datasets download catherinehorng/dogbreedidfromcomp\n",
    "%cd .."
   ]
  },
  {
   "cell_type": "markdown",
   "id": "05cd58e3",
   "metadata": {},
   "source": [
    "Descompactando arquivos (para quem está no Google Colab)"
   ]
  },
  {
   "cell_type": "code",
   "execution_count": null,
   "id": "eab381cc",
   "metadata": {},
   "outputs": [],
   "source": [
    "# Unzipping downloaded file and removing unusable file\n",
    "!unzip dog_dataset/dogbreedidfromcomp.zip -d dog_dataset\n",
    "!rm dog_dataset/dogbreedidfromcomp.zip\n",
    "!rm dog_dataset/samplesubmission.csv\n",
    "\n",
    "# --Made manually"
   ]
  },
  {
   "cell_type": "markdown",
   "id": "9e220a76",
   "metadata": {},
   "source": [
    "## Pre-processamento"
   ]
  },
  {
   "cell_type": "code",
   "execution_count": 43,
   "id": "299c7743",
   "metadata": {},
   "outputs": [],
   "source": [
    "# Important library imports\n",
    "import numpy as np\n",
    "import pandas as pd\n",
    "import matplotlib.pyplot as plt\n",
    "\n",
    "from tqdm import tqdm\n",
    "from tensorflow.keras.preprocessing import image\n",
    "from sklearn.preprocessing import label_binarize\n",
    "from sklearn.model_selection import train_test_split\n",
    "from keras.models import Sequential\n",
    "from tensorflow.keras.layers import Dense, Dropout, Flatten, Conv2D, MaxPool2D\n",
    "from keras.optimizers import Adam"
   ]
  },
  {
   "cell_type": "code",
   "execution_count": 20,
   "id": "89dd890e",
   "metadata": {},
   "outputs": [
    {
     "name": "stdout",
     "output_type": "stream",
     "text": [
      "(10222, 2)\n"
     ]
    },
    {
     "data": {
      "text/html": [
       "<div>\n",
       "<style scoped>\n",
       "    .dataframe tbody tr th:only-of-type {\n",
       "        vertical-align: middle;\n",
       "    }\n",
       "\n",
       "    .dataframe tbody tr th {\n",
       "        vertical-align: top;\n",
       "    }\n",
       "\n",
       "    .dataframe thead th {\n",
       "        text-align: right;\n",
       "    }\n",
       "</style>\n",
       "<table border=\"1\" class=\"dataframe\">\n",
       "  <thead>\n",
       "    <tr style=\"text-align: right;\">\n",
       "      <th></th>\n",
       "      <th>id</th>\n",
       "      <th>breed</th>\n",
       "    </tr>\n",
       "  </thead>\n",
       "  <tbody>\n",
       "    <tr>\n",
       "      <th>0</th>\n",
       "      <td>000bec180eb18c7604dcecc8fe0dba07</td>\n",
       "      <td>boston_bull</td>\n",
       "    </tr>\n",
       "    <tr>\n",
       "      <th>1</th>\n",
       "      <td>001513dfcb2ffafc82cccf4d8bbaba97</td>\n",
       "      <td>dingo</td>\n",
       "    </tr>\n",
       "    <tr>\n",
       "      <th>2</th>\n",
       "      <td>001cdf01b096e06d78e9e5112d419397</td>\n",
       "      <td>pekinese</td>\n",
       "    </tr>\n",
       "    <tr>\n",
       "      <th>3</th>\n",
       "      <td>00214f311d5d2247d5dfe4fe24b2303d</td>\n",
       "      <td>bluetick</td>\n",
       "    </tr>\n",
       "    <tr>\n",
       "      <th>4</th>\n",
       "      <td>0021f9ceb3235effd7fcde7f7538ed62</td>\n",
       "      <td>golden_retriever</td>\n",
       "    </tr>\n",
       "  </tbody>\n",
       "</table>\n",
       "</div>"
      ],
      "text/plain": [
       "                                 id             breed\n",
       "0  000bec180eb18c7604dcecc8fe0dba07       boston_bull\n",
       "1  001513dfcb2ffafc82cccf4d8bbaba97             dingo\n",
       "2  001cdf01b096e06d78e9e5112d419397          pekinese\n",
       "3  00214f311d5d2247d5dfe4fe24b2303d          bluetick\n",
       "4  0021f9ceb3235effd7fcde7f7538ed62  golden_retriever"
      ]
     },
     "execution_count": 20,
     "metadata": {},
     "output_type": "execute_result"
    }
   ],
   "source": [
    "# Read the labels csv\n",
    "\n",
    "labels_all = pd.read_csv('dog_dataset/labels.csv')\n",
    "print(labels_all.shape)\n",
    "labels_all.head()"
   ]
  },
  {
   "cell_type": "code",
   "execution_count": 23,
   "id": "c36502d6",
   "metadata": {},
   "outputs": [
    {
     "data": {
      "text/plain": [
       "scottish_deerhound      126\n",
       "maltese_dog             117\n",
       "afghan_hound            116\n",
       "entlebucher             115\n",
       "bernese_mountain_dog    114\n",
       "Name: breed, dtype: int64"
      ]
     },
     "execution_count": 23,
     "metadata": {},
     "output_type": "execute_result"
    }
   ],
   "source": [
    "# Visualize the number of each breeds\n",
    "breeds_all = labels_all['breed']\n",
    "breeds_all.value_counts().head()"
   ]
  },
  {
   "cell_type": "markdown",
   "id": "377e70ef",
   "metadata": {},
   "source": [
    "Temos 120 tipos de raças de cães no dataset.\n",
    "\n",
    "Por isso, vamos trabalhar com apenas as 5 maiores."
   ]
  },
  {
   "cell_type": "code",
   "execution_count": 28,
   "id": "0c94fb89",
   "metadata": {},
   "outputs": [
    {
     "data": {
      "text/html": [
       "<div>\n",
       "<style scoped>\n",
       "    .dataframe tbody tr th:only-of-type {\n",
       "        vertical-align: middle;\n",
       "    }\n",
       "\n",
       "    .dataframe tbody tr th {\n",
       "        vertical-align: top;\n",
       "    }\n",
       "\n",
       "    .dataframe thead th {\n",
       "        text-align: right;\n",
       "    }\n",
       "</style>\n",
       "<table border=\"1\" class=\"dataframe\">\n",
       "  <thead>\n",
       "    <tr style=\"text-align: right;\">\n",
       "      <th></th>\n",
       "      <th>index</th>\n",
       "      <th>id</th>\n",
       "      <th>breed</th>\n",
       "    </tr>\n",
       "  </thead>\n",
       "  <tbody>\n",
       "    <tr>\n",
       "      <th>0</th>\n",
       "      <td>9</td>\n",
       "      <td>0042188c895a2f14ef64a918ed9c7b64</td>\n",
       "      <td>scottish_deerhound</td>\n",
       "    </tr>\n",
       "    <tr>\n",
       "      <th>1</th>\n",
       "      <td>12</td>\n",
       "      <td>00693b8bc2470375cc744a6391d397ec</td>\n",
       "      <td>maltese_dog</td>\n",
       "    </tr>\n",
       "    <tr>\n",
       "      <th>2</th>\n",
       "      <td>79</td>\n",
       "      <td>01e787576c003930f96c966f9c3e1d44</td>\n",
       "      <td>scottish_deerhound</td>\n",
       "    </tr>\n",
       "    <tr>\n",
       "      <th>3</th>\n",
       "      <td>80</td>\n",
       "      <td>01ee3c7ff9bcaba9874183135877670e</td>\n",
       "      <td>entlebucher</td>\n",
       "    </tr>\n",
       "    <tr>\n",
       "      <th>4</th>\n",
       "      <td>88</td>\n",
       "      <td>021b5a49189665c0442c19b5b33e8cf1</td>\n",
       "      <td>entlebucher</td>\n",
       "    </tr>\n",
       "  </tbody>\n",
       "</table>\n",
       "</div>"
      ],
      "text/plain": [
       "   index                                id               breed\n",
       "0      9  0042188c895a2f14ef64a918ed9c7b64  scottish_deerhound\n",
       "1     12  00693b8bc2470375cc744a6391d397ec         maltese_dog\n",
       "2     79  01e787576c003930f96c966f9c3e1d44  scottish_deerhound\n",
       "3     80  01ee3c7ff9bcaba9874183135877670e         entlebucher\n",
       "4     88  021b5a49189665c0442c19b5b33e8cf1         entlebucher"
      ]
     },
     "execution_count": 28,
     "metadata": {},
     "output_type": "execute_result"
    }
   ],
   "source": [
    "# Selecting first 5 breeds\n",
    "CLASS_NAMES = ['scottish_deerhound', 'maltese_dog', 'afghan_hound', 'entlebucher', 'bernese_mountain_dog']\n",
    "labels = labels_all[(labels_all['breed'].isin(CLASS_NAMES))]\n",
    "labels = labels.reset_index()\n",
    "labels.head()"
   ]
  },
  {
   "cell_type": "code",
   "execution_count": 29,
   "id": "81d9fc89",
   "metadata": {},
   "outputs": [
    {
     "data": {
      "text/html": [
       "<div>\n",
       "<style scoped>\n",
       "    .dataframe tbody tr th:only-of-type {\n",
       "        vertical-align: middle;\n",
       "    }\n",
       "\n",
       "    .dataframe tbody tr th {\n",
       "        vertical-align: top;\n",
       "    }\n",
       "\n",
       "    .dataframe thead th {\n",
       "        text-align: right;\n",
       "    }\n",
       "</style>\n",
       "<table border=\"1\" class=\"dataframe\">\n",
       "  <thead>\n",
       "    <tr style=\"text-align: right;\">\n",
       "      <th></th>\n",
       "      <th>index</th>\n",
       "      <th>id</th>\n",
       "      <th>breed</th>\n",
       "    </tr>\n",
       "  </thead>\n",
       "  <tbody>\n",
       "    <tr>\n",
       "      <th>0</th>\n",
       "      <td>9</td>\n",
       "      <td>0042188c895a2f14ef64a918ed9c7b64</td>\n",
       "      <td>scottish_deerhound</td>\n",
       "    </tr>\n",
       "    <tr>\n",
       "      <th>1</th>\n",
       "      <td>12</td>\n",
       "      <td>00693b8bc2470375cc744a6391d397ec</td>\n",
       "      <td>maltese_dog</td>\n",
       "    </tr>\n",
       "    <tr>\n",
       "      <th>2</th>\n",
       "      <td>79</td>\n",
       "      <td>01e787576c003930f96c966f9c3e1d44</td>\n",
       "      <td>scottish_deerhound</td>\n",
       "    </tr>\n",
       "    <tr>\n",
       "      <th>3</th>\n",
       "      <td>80</td>\n",
       "      <td>01ee3c7ff9bcaba9874183135877670e</td>\n",
       "      <td>entlebucher</td>\n",
       "    </tr>\n",
       "    <tr>\n",
       "      <th>4</th>\n",
       "      <td>88</td>\n",
       "      <td>021b5a49189665c0442c19b5b33e8cf1</td>\n",
       "      <td>entlebucher</td>\n",
       "    </tr>\n",
       "    <tr>\n",
       "      <th>...</th>\n",
       "      <td>...</td>\n",
       "      <td>...</td>\n",
       "      <td>...</td>\n",
       "    </tr>\n",
       "    <tr>\n",
       "      <th>583</th>\n",
       "      <td>10154</td>\n",
       "      <td>fe3e760d763e186541e18f303cd7caca</td>\n",
       "      <td>bernese_mountain_dog</td>\n",
       "    </tr>\n",
       "    <tr>\n",
       "      <th>584</th>\n",
       "      <td>10158</td>\n",
       "      <td>fe50bac6c389d137ea01c9cfc7346ca8</td>\n",
       "      <td>scottish_deerhound</td>\n",
       "    </tr>\n",
       "    <tr>\n",
       "      <th>585</th>\n",
       "      <td>10178</td>\n",
       "      <td>fef5d4cdaf50cf159102e803c7d6aa9c</td>\n",
       "      <td>bernese_mountain_dog</td>\n",
       "    </tr>\n",
       "    <tr>\n",
       "      <th>586</th>\n",
       "      <td>10200</td>\n",
       "      <td>ff7d9c08091acc3b18b869951feeb013</td>\n",
       "      <td>maltese_dog</td>\n",
       "    </tr>\n",
       "    <tr>\n",
       "      <th>587</th>\n",
       "      <td>10204</td>\n",
       "      <td>ffa0055ec324829882186bae29491645</td>\n",
       "      <td>maltese_dog</td>\n",
       "    </tr>\n",
       "  </tbody>\n",
       "</table>\n",
       "<p>588 rows × 3 columns</p>\n",
       "</div>"
      ],
      "text/plain": [
       "     index                                id                 breed\n",
       "0        9  0042188c895a2f14ef64a918ed9c7b64    scottish_deerhound\n",
       "1       12  00693b8bc2470375cc744a6391d397ec           maltese_dog\n",
       "2       79  01e787576c003930f96c966f9c3e1d44    scottish_deerhound\n",
       "3       80  01ee3c7ff9bcaba9874183135877670e           entlebucher\n",
       "4       88  021b5a49189665c0442c19b5b33e8cf1           entlebucher\n",
       "..     ...                               ...                   ...\n",
       "583  10154  fe3e760d763e186541e18f303cd7caca  bernese_mountain_dog\n",
       "584  10158  fe50bac6c389d137ea01c9cfc7346ca8    scottish_deerhound\n",
       "585  10178  fef5d4cdaf50cf159102e803c7d6aa9c  bernese_mountain_dog\n",
       "586  10200  ff7d9c08091acc3b18b869951feeb013           maltese_dog\n",
       "587  10204  ffa0055ec324829882186bae29491645           maltese_dog\n",
       "\n",
       "[588 rows x 3 columns]"
      ]
     },
     "execution_count": 29,
     "metadata": {},
     "output_type": "execute_result"
    }
   ],
   "source": [
    "labels"
   ]
  },
  {
   "cell_type": "markdown",
   "id": "73a8b7c4",
   "metadata": {},
   "source": [
    "Como este é um problema de **classificação**, precisamos fazer o *one-hot enconding* das classes (Que também são nossas variáveis target). Depois, iremos ler as imagens e convertê-las para um numpy array, terminando o processo com uma normalização.\n",
    "\n",
    "O numpy array vai receber as imagens como se tivessem uma resolução de 224x224, em um campo de três dimensões - Como funciona com *imagens RGB*"
   ]
  },
  {
   "cell_type": "code",
   "execution_count": 37,
   "id": "78bfcaee",
   "metadata": {},
   "outputs": [],
   "source": [
    "# Creating numpy matrix with zeros\n",
    "X = np.zeros((len(labels), 224, 224, 3), dtype='float32')\n",
    "Y = label_binarize(labels['breed'], classes= CLASS_NAMES) #One-Hot Encoder"
   ]
  },
  {
   "cell_type": "code",
   "execution_count": 41,
   "id": "cf19ffc8",
   "metadata": {},
   "outputs": [
    {
     "name": "stderr",
     "output_type": "stream",
     "text": [
      "100%|██████████| 588/588 [00:01<00:00, 373.13it/s]"
     ]
    },
    {
     "name": "stdout",
     "output_type": "stream",
     "text": [
      "\n",
      "Train images shape:  (588, 224, 224, 3)  size: 88,510,464\n",
      "\\One-hot encoded output shape:  (588, 5)  size: 2,940\n"
     ]
    },
    {
     "name": "stderr",
     "output_type": "stream",
     "text": [
      "\n"
     ]
    }
   ],
   "source": [
    "# Reading and converting image to numpy array and normalizing the dataset\n",
    "for i in tqdm(range(len(labels))):\n",
    "    img = image.load_img('dog_dataset/train/%s.jpg' % labels['id'][i], target_size=(224, 224))\n",
    "    img = image.img_to_array(img)\n",
    "    x = np.expand_dims(img.copy(), axis=0)\n",
    "    X[i] = x / 255.0\n",
    "    \n",
    "# Print traing image and one-hot encode shape&size\n",
    "print('\\nTrain images shape: ', X.shape,' size: {:,}'.format(X.size))\n",
    "print('\\One-hot encoded output shape: ', Y.shape,' size: {:,}'.format(Y.size))"
   ]
  },
  {
   "cell_type": "markdown",
   "id": "e48856a1",
   "metadata": {},
   "source": [
    "Podemos checar também o formato do nosso One-Hot Encoding"
   ]
  },
  {
   "cell_type": "markdown",
   "id": "3b36bc0b",
   "metadata": {},
   "source": [
    "## Modelando"
   ]
  },
  {
   "cell_type": "markdown",
   "id": "4f0fe3f6",
   "metadata": {},
   "source": [
    "Criaremos uma arquitetura de rede para o modelo. Serão aplicadas diversas camadas diferentes, com filtros diferentes, usando as classes **Conv2D** (Cria um kernel convolucional que espirala com a *layer de input* para produzir tensor de saída - Lembre que estamos usando o TensorFlow), **MaxPool2D** (Técnica de amostragem que pega o máximo valor abaixo da janela definida pela `poolsize`), **Flatten** ('Planifica' o *input* e cria uma saída unidimensional) e **Dense** (Camada que reduz a dimensão dos vetores diretamente ligados aos neurônios da camada anterior. Esta é a camada que gera a saída para cada uma das classes)."
   ]
  },
  {
   "cell_type": "code",
   "execution_count": 46,
   "id": "01a2b9a2",
   "metadata": {},
   "outputs": [
    {
     "name": "stdout",
     "output_type": "stream",
     "text": [
      "Model: \"sequential_3\"\n",
      "_________________________________________________________________\n",
      " Layer (type)                Output Shape              Param #   \n",
      "=================================================================\n",
      " conv2d_6 (Conv2D)           (None, 220, 220, 64)      4864      \n",
      "                                                                 \n",
      " max_pooling2d_6 (MaxPooling  (None, 110, 110, 64)     0         \n",
      " 2D)                                                             \n",
      "                                                                 \n",
      " conv2d_7 (Conv2D)           (None, 108, 108, 32)      18464     \n",
      "                                                                 \n",
      " max_pooling2d_7 (MaxPooling  (None, 54, 54, 32)       0         \n",
      " 2D)                                                             \n",
      "                                                                 \n",
      " conv2d_8 (Conv2D)           (None, 48, 48, 16)        25104     \n",
      "                                                                 \n",
      " max_pooling2d_8 (MaxPooling  (None, 24, 24, 16)       0         \n",
      " 2D)                                                             \n",
      "                                                                 \n",
      " conv2d_9 (Conv2D)           (None, 20, 20, 8)         3208      \n",
      "                                                                 \n",
      " max_pooling2d_9 (MaxPooling  (None, 10, 10, 8)        0         \n",
      " 2D)                                                             \n",
      "                                                                 \n",
      " flatten_1 (Flatten)         (None, 800)               0         \n",
      "                                                                 \n",
      " dense_3 (Dense)             (None, 128)               102528    \n",
      "                                                                 \n",
      " dense_4 (Dense)             (None, 64)                8256      \n",
      "                                                                 \n",
      " dense_5 (Dense)             (None, 5)                 325       \n",
      "                                                                 \n",
      "=================================================================\n",
      "Total params: 162,749\n",
      "Trainable params: 162,749\n",
      "Non-trainable params: 0\n",
      "_________________________________________________________________\n"
     ]
    }
   ],
   "source": [
    "# Build\n",
    "model = Sequential()\n",
    "\n",
    "model.add(Conv2D(filters = 64, kernel_size = (5,5), activation='relu', input_shape = (224, 224, 3)))\n",
    "model.add(MaxPool2D(pool_size=(2,2)))\n",
    "\n",
    "model.add(Conv2D(filters = 32, kernel_size = (3,3), activation='relu', kernel_regularizer='l2'))\n",
    "model.add(MaxPool2D(pool_size=(2,2)))\n",
    "\n",
    "model.add(Conv2D(filters = 16, kernel_size = (7,7), activation='relu', kernel_regularizer='l2'))\n",
    "model.add(MaxPool2D(pool_size=(2,2)))\n",
    "\n",
    "model.add(Conv2D(filters = 8, kernel_size = (5,5), activation='relu', kernel_regularizer='l2'))\n",
    "model.add(MaxPool2D(pool_size=(2,2)))\n",
    "\n",
    "model.add(Flatten())\n",
    "model.add(Dense(128, activation='relu', kernel_regularizer='l2'))\n",
    "model.add(Dense(64, activation='relu', kernel_regularizer='l2'))\n",
    "model.add(Dense(len(CLASS_NAMES), activation='softmax'))\n",
    "\n",
    "model.compile(loss='categorical_crossentropy', optimizer = Adam(0.0001), metrics=['accuracy'])\n",
    "\n",
    "model.summary()"
   ]
  },
  {
   "cell_type": "markdown",
   "id": "7bae6c5f",
   "metadata": {},
   "source": [
    "Parâmetros encontrados no treinamento: **162,749**"
   ]
  },
  {
   "cell_type": "markdown",
   "id": "96899c50",
   "metadata": {},
   "source": [
    "### Treinando o modelo"
   ]
  },
  {
   "cell_type": "code",
   "execution_count": 47,
   "id": "233328d4",
   "metadata": {},
   "outputs": [],
   "source": [
    "# Splitting the dataset into training and testing datasets\n",
    "X_train_val, X_test, y_train_val, y_test = train_test_split(X, Y, test_size=0.1)\n",
    "\n",
    "# Splitting the training dataset into training and validation datasets\n",
    "X_train, X_val, y_train, y_val = train_test_split(X, Y, test_size=0.2)"
   ]
  },
  {
   "cell_type": "markdown",
   "id": "44c28fc7",
   "metadata": {},
   "source": [
    "Vamos treinar o modelo 100 vezes e com um `batch_size` de 128. Aumentar o número de *epochs* pode (Ênfase aqui) aumentar a acurácia. Durante cada epoch, podemos ver como o modelo está performando."
   ]
  },
  {
   "cell_type": "code",
   "execution_count": 48,
   "id": "5d631671",
   "metadata": {},
   "outputs": [
    {
     "name": "stdout",
     "output_type": "stream",
     "text": [
      "Epoch 1/100\n",
      "4/4 [==============================] - 17s 4s/step - loss: 5.3833 - accuracy: 0.2340 - val_loss: 5.3554 - val_accuracy: 0.2542\n",
      "Epoch 2/100\n",
      "4/4 [==============================] - 15s 4s/step - loss: 5.3328 - accuracy: 0.2723 - val_loss: 5.3086 - val_accuracy: 0.2627\n",
      "Epoch 3/100\n",
      "4/4 [==============================] - 15s 4s/step - loss: 5.2832 - accuracy: 0.2809 - val_loss: 5.2620 - val_accuracy: 0.2712\n",
      "Epoch 4/100\n",
      "4/4 [==============================] - 15s 4s/step - loss: 5.2345 - accuracy: 0.2553 - val_loss: 5.2163 - val_accuracy: 0.2119\n",
      "Epoch 5/100\n",
      "4/4 [==============================] - 15s 4s/step - loss: 5.1865 - accuracy: 0.2426 - val_loss: 5.1718 - val_accuracy: 0.2119\n",
      "Epoch 6/100\n",
      "4/4 [==============================] - 15s 4s/step - loss: 5.1378 - accuracy: 0.2468 - val_loss: 5.1297 - val_accuracy: 0.2288\n",
      "Epoch 7/100\n",
      "4/4 [==============================] - 15s 4s/step - loss: 5.0897 - accuracy: 0.2532 - val_loss: 5.0881 - val_accuracy: 0.2288\n",
      "Epoch 8/100\n",
      "4/4 [==============================] - 15s 4s/step - loss: 5.0402 - accuracy: 0.2638 - val_loss: 5.0457 - val_accuracy: 0.2373\n",
      "Epoch 9/100\n",
      "4/4 [==============================] - 14s 4s/step - loss: 4.9897 - accuracy: 0.2745 - val_loss: 5.0016 - val_accuracy: 0.2542\n",
      "Epoch 10/100\n",
      "4/4 [==============================] - 15s 4s/step - loss: 4.9386 - accuracy: 0.3255 - val_loss: 4.9593 - val_accuracy: 0.2458\n",
      "Epoch 11/100\n",
      "4/4 [==============================] - 15s 4s/step - loss: 4.8816 - accuracy: 0.3787 - val_loss: 4.9086 - val_accuracy: 0.2797\n",
      "Epoch 12/100\n",
      "4/4 [==============================] - 14s 4s/step - loss: 4.8209 - accuracy: 0.4000 - val_loss: 4.8580 - val_accuracy: 0.3051\n",
      "Epoch 13/100\n",
      "4/4 [==============================] - 14s 4s/step - loss: 4.7570 - accuracy: 0.4085 - val_loss: 4.8174 - val_accuracy: 0.2966\n",
      "Epoch 14/100\n",
      "4/4 [==============================] - 14s 3s/step - loss: 4.6902 - accuracy: 0.3915 - val_loss: 4.7732 - val_accuracy: 0.3051\n",
      "Epoch 15/100\n",
      "4/4 [==============================] - 14s 3s/step - loss: 4.6235 - accuracy: 0.3957 - val_loss: 4.7110 - val_accuracy: 0.3305\n",
      "Epoch 16/100\n",
      "4/4 [==============================] - 14s 4s/step - loss: 4.5506 - accuracy: 0.4064 - val_loss: 4.6900 - val_accuracy: 0.3390\n",
      "Epoch 17/100\n",
      "4/4 [==============================] - 14s 4s/step - loss: 4.4944 - accuracy: 0.4213 - val_loss: 4.6567 - val_accuracy: 0.3051\n",
      "Epoch 18/100\n",
      "4/4 [==============================] - 14s 3s/step - loss: 4.4417 - accuracy: 0.4191 - val_loss: 4.6092 - val_accuracy: 0.3220\n",
      "Epoch 19/100\n",
      "4/4 [==============================] - 14s 3s/step - loss: 4.3826 - accuracy: 0.4362 - val_loss: 4.5592 - val_accuracy: 0.3729\n",
      "Epoch 20/100\n",
      "4/4 [==============================] - 14s 3s/step - loss: 4.3339 - accuracy: 0.4638 - val_loss: 4.5348 - val_accuracy: 0.3305\n",
      "Epoch 21/100\n",
      "4/4 [==============================] - 14s 3s/step - loss: 4.2782 - accuracy: 0.4787 - val_loss: 4.5054 - val_accuracy: 0.3559\n",
      "Epoch 22/100\n",
      "4/4 [==============================] - 14s 4s/step - loss: 4.2166 - accuracy: 0.5000 - val_loss: 4.4516 - val_accuracy: 0.3729\n",
      "Epoch 23/100\n",
      "4/4 [==============================] - 14s 4s/step - loss: 4.1740 - accuracy: 0.5128 - val_loss: 4.4469 - val_accuracy: 0.3475\n",
      "Epoch 24/100\n",
      "4/4 [==============================] - 14s 3s/step - loss: 4.1191 - accuracy: 0.5213 - val_loss: 4.4260 - val_accuracy: 0.3390\n",
      "Epoch 25/100\n",
      "4/4 [==============================] - 14s 3s/step - loss: 4.0636 - accuracy: 0.5255 - val_loss: 4.3795 - val_accuracy: 0.3898\n",
      "Epoch 26/100\n",
      "4/4 [==============================] - 14s 3s/step - loss: 4.0349 - accuracy: 0.5404 - val_loss: 4.3358 - val_accuracy: 0.3729\n",
      "Epoch 27/100\n",
      "4/4 [==============================] - 14s 3s/step - loss: 3.9872 - accuracy: 0.5447 - val_loss: 4.3761 - val_accuracy: 0.3390\n",
      "Epoch 28/100\n",
      "4/4 [==============================] - 14s 4s/step - loss: 3.9239 - accuracy: 0.5574 - val_loss: 4.2742 - val_accuracy: 0.4153\n",
      "Epoch 29/100\n",
      "4/4 [==============================] - 14s 3s/step - loss: 3.8881 - accuracy: 0.5809 - val_loss: 4.2867 - val_accuracy: 0.3644\n",
      "Epoch 30/100\n",
      "4/4 [==============================] - 14s 3s/step - loss: 3.8314 - accuracy: 0.5830 - val_loss: 4.2470 - val_accuracy: 0.3644\n",
      "Epoch 31/100\n",
      "4/4 [==============================] - 14s 4s/step - loss: 3.7903 - accuracy: 0.6043 - val_loss: 4.2732 - val_accuracy: 0.3644\n",
      "Epoch 32/100\n",
      "4/4 [==============================] - 14s 4s/step - loss: 3.7518 - accuracy: 0.6298 - val_loss: 4.2074 - val_accuracy: 0.3305\n",
      "Epoch 33/100\n",
      "4/4 [==============================] - 14s 4s/step - loss: 3.7238 - accuracy: 0.6064 - val_loss: 4.1903 - val_accuracy: 0.4153\n",
      "Epoch 34/100\n",
      "4/4 [==============================] - 14s 4s/step - loss: 3.6723 - accuracy: 0.6447 - val_loss: 4.1618 - val_accuracy: 0.3814\n",
      "Epoch 35/100\n",
      "4/4 [==============================] - 14s 4s/step - loss: 3.6253 - accuracy: 0.6511 - val_loss: 4.1730 - val_accuracy: 0.3475\n",
      "Epoch 36/100\n",
      "4/4 [==============================] - 14s 4s/step - loss: 3.6072 - accuracy: 0.6660 - val_loss: 4.1099 - val_accuracy: 0.4068\n",
      "Epoch 37/100\n",
      "4/4 [==============================] - 14s 3s/step - loss: 3.5538 - accuracy: 0.6702 - val_loss: 4.1270 - val_accuracy: 0.3898\n",
      "Epoch 38/100\n",
      "4/4 [==============================] - 14s 4s/step - loss: 3.5178 - accuracy: 0.6638 - val_loss: 4.0780 - val_accuracy: 0.4153\n",
      "Epoch 39/100\n",
      "4/4 [==============================] - 14s 4s/step - loss: 3.4887 - accuracy: 0.6872 - val_loss: 4.1241 - val_accuracy: 0.4153\n",
      "Epoch 40/100\n",
      "4/4 [==============================] - 14s 4s/step - loss: 3.4361 - accuracy: 0.6957 - val_loss: 4.0392 - val_accuracy: 0.3729\n",
      "Epoch 41/100\n",
      "4/4 [==============================] - 14s 4s/step - loss: 3.4029 - accuracy: 0.7064 - val_loss: 4.1286 - val_accuracy: 0.4068\n",
      "Epoch 42/100\n",
      "4/4 [==============================] - 14s 4s/step - loss: 3.3918 - accuracy: 0.7043 - val_loss: 4.0419 - val_accuracy: 0.4322\n",
      "Epoch 43/100\n",
      "4/4 [==============================] - 14s 3s/step - loss: 3.3635 - accuracy: 0.6957 - val_loss: 4.0105 - val_accuracy: 0.4237\n",
      "Epoch 44/100\n",
      "4/4 [==============================] - 14s 3s/step - loss: 3.3142 - accuracy: 0.7213 - val_loss: 4.0309 - val_accuracy: 0.4322\n",
      "Epoch 45/100\n",
      "4/4 [==============================] - 14s 3s/step - loss: 3.2838 - accuracy: 0.7191 - val_loss: 4.0496 - val_accuracy: 0.4237\n",
      "Epoch 46/100\n",
      "4/4 [==============================] - 14s 4s/step - loss: 3.2600 - accuracy: 0.7255 - val_loss: 3.9611 - val_accuracy: 0.4576\n",
      "Epoch 47/100\n",
      "4/4 [==============================] - 14s 3s/step - loss: 3.2323 - accuracy: 0.7553 - val_loss: 4.1078 - val_accuracy: 0.4492\n",
      "Epoch 48/100\n",
      "4/4 [==============================] - 14s 3s/step - loss: 3.2023 - accuracy: 0.7362 - val_loss: 3.9506 - val_accuracy: 0.4831\n",
      "Epoch 49/100\n",
      "4/4 [==============================] - 14s 4s/step - loss: 3.1726 - accuracy: 0.7553 - val_loss: 3.9708 - val_accuracy: 0.4322\n",
      "Epoch 50/100\n",
      "4/4 [==============================] - 14s 3s/step - loss: 3.1614 - accuracy: 0.7660 - val_loss: 4.0562 - val_accuracy: 0.4322\n",
      "Epoch 51/100\n",
      "4/4 [==============================] - 14s 4s/step - loss: 3.1508 - accuracy: 0.7489 - val_loss: 3.9079 - val_accuracy: 0.4153\n",
      "Epoch 52/100\n",
      "4/4 [==============================] - 14s 4s/step - loss: 3.1286 - accuracy: 0.7532 - val_loss: 4.2194 - val_accuracy: 0.3898\n",
      "Epoch 53/100\n",
      "4/4 [==============================] - 14s 4s/step - loss: 3.0928 - accuracy: 0.7681 - val_loss: 3.9130 - val_accuracy: 0.4153\n",
      "Epoch 54/100\n",
      "4/4 [==============================] - 14s 4s/step - loss: 3.0575 - accuracy: 0.7957 - val_loss: 4.1472 - val_accuracy: 0.4153\n",
      "Epoch 55/100\n",
      "4/4 [==============================] - 14s 4s/step - loss: 3.0129 - accuracy: 0.7830 - val_loss: 3.9068 - val_accuracy: 0.4576\n",
      "Epoch 56/100\n",
      "4/4 [==============================] - 14s 4s/step - loss: 2.9974 - accuracy: 0.8128 - val_loss: 4.1205 - val_accuracy: 0.4153\n",
      "Epoch 57/100\n",
      "4/4 [==============================] - 14s 4s/step - loss: 3.0089 - accuracy: 0.7787 - val_loss: 3.8866 - val_accuracy: 0.4576\n",
      "Epoch 58/100\n",
      "4/4 [==============================] - 14s 4s/step - loss: 2.9642 - accuracy: 0.8106 - val_loss: 4.0816 - val_accuracy: 0.3983\n",
      "Epoch 59/100\n"
     ]
    },
    {
     "name": "stdout",
     "output_type": "stream",
     "text": [
      "4/4 [==============================] - 14s 4s/step - loss: 2.9291 - accuracy: 0.7915 - val_loss: 3.8737 - val_accuracy: 0.4407\n",
      "Epoch 60/100\n",
      "4/4 [==============================] - 14s 4s/step - loss: 2.8903 - accuracy: 0.8383 - val_loss: 4.0059 - val_accuracy: 0.3983\n",
      "Epoch 61/100\n",
      "4/4 [==============================] - 14s 4s/step - loss: 2.8656 - accuracy: 0.8489 - val_loss: 3.8995 - val_accuracy: 0.4322\n",
      "Epoch 62/100\n",
      "4/4 [==============================] - 14s 4s/step - loss: 2.8707 - accuracy: 0.8319 - val_loss: 3.9914 - val_accuracy: 0.3983\n",
      "Epoch 63/100\n",
      "4/4 [==============================] - 14s 4s/step - loss: 2.8371 - accuracy: 0.8340 - val_loss: 3.8968 - val_accuracy: 0.4746\n",
      "Epoch 64/100\n",
      "4/4 [==============================] - 14s 3s/step - loss: 2.8230 - accuracy: 0.8234 - val_loss: 3.9406 - val_accuracy: 0.4322\n",
      "Epoch 65/100\n",
      "4/4 [==============================] - 14s 4s/step - loss: 2.7754 - accuracy: 0.8574 - val_loss: 3.8826 - val_accuracy: 0.4746\n",
      "Epoch 66/100\n",
      "4/4 [==============================] - 14s 3s/step - loss: 2.7500 - accuracy: 0.8702 - val_loss: 4.0545 - val_accuracy: 0.4407\n",
      "Epoch 67/100\n",
      "4/4 [==============================] - 14s 4s/step - loss: 2.7438 - accuracy: 0.8511 - val_loss: 3.8714 - val_accuracy: 0.4915\n",
      "Epoch 68/100\n",
      "4/4 [==============================] - 14s 4s/step - loss: 2.7325 - accuracy: 0.8532 - val_loss: 3.9614 - val_accuracy: 0.4576\n",
      "Epoch 69/100\n",
      "4/4 [==============================] - 14s 4s/step - loss: 2.7047 - accuracy: 0.8723 - val_loss: 3.8754 - val_accuracy: 0.4322\n",
      "Epoch 70/100\n",
      "4/4 [==============================] - 15s 4s/step - loss: 2.6673 - accuracy: 0.8723 - val_loss: 3.9120 - val_accuracy: 0.4407\n",
      "Epoch 71/100\n",
      "4/4 [==============================] - 15s 4s/step - loss: 2.6344 - accuracy: 0.8979 - val_loss: 3.9029 - val_accuracy: 0.4068\n",
      "Epoch 72/100\n",
      "4/4 [==============================] - 14s 4s/step - loss: 2.6193 - accuracy: 0.9043 - val_loss: 4.0025 - val_accuracy: 0.4322\n",
      "Epoch 73/100\n",
      "4/4 [==============================] - 14s 4s/step - loss: 2.6224 - accuracy: 0.8872 - val_loss: 3.9158 - val_accuracy: 0.4492\n",
      "Epoch 74/100\n",
      "4/4 [==============================] - 14s 4s/step - loss: 2.5994 - accuracy: 0.8979 - val_loss: 4.0115 - val_accuracy: 0.4661\n",
      "Epoch 75/100\n",
      "4/4 [==============================] - 14s 4s/step - loss: 2.6021 - accuracy: 0.8787 - val_loss: 3.9848 - val_accuracy: 0.4322\n",
      "Epoch 76/100\n",
      "4/4 [==============================] - 14s 3s/step - loss: 2.5597 - accuracy: 0.9021 - val_loss: 3.8822 - val_accuracy: 0.4915\n",
      "Epoch 77/100\n",
      "4/4 [==============================] - 14s 4s/step - loss: 2.5331 - accuracy: 0.9085 - val_loss: 4.0363 - val_accuracy: 0.4237\n",
      "Epoch 78/100\n",
      "4/4 [==============================] - 14s 4s/step - loss: 2.5087 - accuracy: 0.9149 - val_loss: 3.9152 - val_accuracy: 0.4831\n",
      "Epoch 79/100\n",
      "4/4 [==============================] - 14s 4s/step - loss: 2.4912 - accuracy: 0.9213 - val_loss: 4.0279 - val_accuracy: 0.4153\n",
      "Epoch 80/100\n",
      "4/4 [==============================] - 14s 3s/step - loss: 2.5055 - accuracy: 0.9000 - val_loss: 4.0317 - val_accuracy: 0.4831\n",
      "Epoch 81/100\n",
      "4/4 [==============================] - 14s 3s/step - loss: 2.4863 - accuracy: 0.9000 - val_loss: 3.9706 - val_accuracy: 0.4661\n",
      "Epoch 82/100\n",
      "4/4 [==============================] - 14s 3s/step - loss: 2.4643 - accuracy: 0.9043 - val_loss: 4.0018 - val_accuracy: 0.4322\n",
      "Epoch 83/100\n",
      "4/4 [==============================] - 14s 3s/step - loss: 2.4346 - accuracy: 0.9298 - val_loss: 4.1317 - val_accuracy: 0.4407\n",
      "Epoch 84/100\n",
      "4/4 [==============================] - 14s 4s/step - loss: 2.4209 - accuracy: 0.9191 - val_loss: 3.9948 - val_accuracy: 0.4661\n",
      "Epoch 85/100\n",
      "4/4 [==============================] - 14s 4s/step - loss: 2.3981 - accuracy: 0.9319 - val_loss: 4.0875 - val_accuracy: 0.4322\n",
      "Epoch 86/100\n",
      "4/4 [==============================] - 14s 3s/step - loss: 2.3749 - accuracy: 0.9447 - val_loss: 4.0887 - val_accuracy: 0.4407\n",
      "Epoch 87/100\n",
      "4/4 [==============================] - 15s 4s/step - loss: 2.3539 - accuracy: 0.9404 - val_loss: 4.0222 - val_accuracy: 0.4492\n",
      "Epoch 88/100\n",
      "4/4 [==============================] - 16s 4s/step - loss: 2.3501 - accuracy: 0.9532 - val_loss: 4.1498 - val_accuracy: 0.4153\n",
      "Epoch 89/100\n",
      "4/4 [==============================] - 14s 4s/step - loss: 2.3347 - accuracy: 0.9319 - val_loss: 4.0133 - val_accuracy: 0.4576\n",
      "Epoch 90/100\n",
      "4/4 [==============================] - 14s 4s/step - loss: 2.3122 - accuracy: 0.9596 - val_loss: 4.1417 - val_accuracy: 0.4492\n",
      "Epoch 91/100\n",
      "4/4 [==============================] - 14s 4s/step - loss: 2.3013 - accuracy: 0.9617 - val_loss: 4.1749 - val_accuracy: 0.4492\n",
      "Epoch 92/100\n",
      "4/4 [==============================] - 14s 4s/step - loss: 2.2962 - accuracy: 0.9383 - val_loss: 4.0859 - val_accuracy: 0.4492\n",
      "Epoch 93/100\n",
      "4/4 [==============================] - 14s 4s/step - loss: 2.3285 - accuracy: 0.9404 - val_loss: 4.2636 - val_accuracy: 0.4068\n",
      "Epoch 94/100\n",
      "4/4 [==============================] - 15s 4s/step - loss: 2.2783 - accuracy: 0.9426 - val_loss: 4.1191 - val_accuracy: 0.4492\n",
      "Epoch 95/100\n",
      "4/4 [==============================] - 14s 3s/step - loss: 2.2504 - accuracy: 0.9553 - val_loss: 4.1808 - val_accuracy: 0.4407\n",
      "Epoch 96/100\n",
      "4/4 [==============================] - 14s 4s/step - loss: 2.2501 - accuracy: 0.9596 - val_loss: 4.3237 - val_accuracy: 0.4322\n",
      "Epoch 97/100\n",
      "4/4 [==============================] - 14s 4s/step - loss: 2.2412 - accuracy: 0.9489 - val_loss: 4.1852 - val_accuracy: 0.4237\n",
      "Epoch 98/100\n",
      "4/4 [==============================] - 15s 4s/step - loss: 2.1977 - accuracy: 0.9745 - val_loss: 4.2187 - val_accuracy: 0.4322\n",
      "Epoch 99/100\n",
      "4/4 [==============================] - 14s 4s/step - loss: 2.1835 - accuracy: 0.9702 - val_loss: 4.2066 - val_accuracy: 0.4407\n",
      "Epoch 100/100\n",
      "4/4 [==============================] - 14s 3s/step - loss: 2.1840 - accuracy: 0.9596 - val_loss: 4.1956 - val_accuracy: 0.4492\n"
     ]
    }
   ],
   "source": [
    "# Training the model\n",
    "epochs = 100\n",
    "batch_size = 128\n",
    "\n",
    "history = model.fit(X_train, y_train, batch_size = batch_size, epochs = epochs,\n",
    "                    validation_data = (X_val, y_val))"
   ]
  },
  {
   "cell_type": "markdown",
   "id": "b4cafba4",
   "metadata": {},
   "source": [
    "### Testando\n",
    "\n",
    "*   Agora, vamos analisar como o modelo está aprendendo em cada epoch\n",
    "\n",
    "*   Logo depois, testaremos o mesmo.\n",
    "\n",
    "*   Usaremos a função `predict` para fazer predições com o modelo, juntamente com a acurária do conjunto de teste\n",
    "\n",
    "Na testagem, visualizaremos um elemento por vez, pois também mostraremos a imagem de cada cachorrom, individualmente."
   ]
  },
  {
   "cell_type": "code",
   "execution_count": 49,
   "id": "5bfc9e60",
   "metadata": {},
   "outputs": [
    {
     "data": {
      "image/png": "[encoded data removed]",
      "text/plain": [
       "<Figure size 864x360 with 1 Axes>"
      ]
     },
     "metadata": {
      "needs_background": "light"
     },
     "output_type": "display_data"
    }
   ],
   "source": [
    "# Plot the training history\n",
    "plt.figure(figsize=(12,5))\n",
    "plt.plot(history.history['accuracy'], color='r')\n",
    "plt.plot(history.historytory['val_accuracy'], color='b')\n",
    "plt.title('Acurácia do modelo')\n",
    "plt.xlabel('Epochs')\n",
    "plt.ylabel('Accuracy')\n",
    "plt.legend(['train', 'val'])\n",
    "\n",
    "plt.show()"
   ]
  },
  {
   "cell_type": "markdown",
   "id": "62fca1c7",
   "metadata": {},
   "source": [
    "O modelo se saiu bem com o dataset de treino, mas não tanto com o de validação, o que pode representar um pouco de *overfit*, ou **superadequação**."
   ]
  },
  {
   "cell_type": "code",
   "execution_count": 54,
   "id": "a440899a",
   "metadata": {},
   "outputs": [
    {
     "name": "stdout",
     "output_type": "stream",
     "text": [
      "2/2 [==============================] - 0s 130ms/step\n",
      "2/2 [==============================] - 0s 154ms/step - loss: 2.8232 - accuracy: 0.8475\n",
      "Accuracy over the test set: \n",
      "  84.75 %\n"
     ]
    }
   ],
   "source": [
    "y_pred = model.predict(X_test)\n",
    "score = model.evaluate(X_test, y_test)\n",
    "print('Accuracy over the test set: \\n ', round((score[1]*100), 2), '%')"
   ]
  },
  {
   "cell_type": "code",
   "execution_count": 62,
   "id": "93812aee",
   "metadata": {},
   "outputs": [
    {
     "data": {
      "image/png": "[encoded data removed]",
      "text/plain": [
       "<Figure size 432x288 with 1 Axes>"
      ]
     },
     "metadata": {
      "needs_background": "light"
     },
     "output_type": "display_data"
    },
    {
     "name": "stdout",
     "output_type": "stream",
     "text": [
      "Originally:  scottish_deerhound\n",
      "Predicted:  scottish_deerhound\n"
     ]
    }
   ],
   "source": [
    "# Plotting image to compare\n",
    "plt.imshow(X_test[42,:,:,:]) # Você pode mudar o doguinho analisado ao trocar o primeiro valor do array\n",
    "plt.show()\n",
    "\n",
    "# Finding max value from predition list and comparing original value vs predicted\n",
    "print('Originally: ', labels['breed'][np.argmax(y_test[0])])\n",
    "print('Predicted: ', labels['breed'][np.argmax(y_pred[0])])"
   ]
  },
  {
   "cell_type": "markdown",
   "id": "720b9497",
   "metadata": {},
   "source": [
    "## Conclusão\n",
    "\n",
    "O modelo conseguiu atingir, modestamente, as expectativas, mesmo sem nenhuma tunagem de hiperparâmetros. Esse modelo pode ser usado por diversas organizações que trabalham com salvamento e adoção de animais, além de propósitos educacionais.\n",
    "\n",
    "Made originally by **Pianalytix**\n",
    "\n",
    "Traduzido e reconstruído por **Samurai**"
   ]
  },
  {
   "cell_type": "code",
   "execution_count": 64,
   "id": "03bf086d",
   "metadata": {},
   "outputs": [],
   "source": [
    "model.save('dog_breed.h5')"
   ]
  }
 ],
 "metadata": {
  "kernelspec": {
   "display_name": "Python 3 (ipykernel)",
   "language": "python",
   "name": "python3"
  },
  "language_info": {
   "codemirror_mode": {
    "name": "ipython",
    "version": 3
   },
   "file_extension": ".py",
   "mimetype": "text/x-python",
   "name": "python",
   "nbconvert_exporter": "python",
   "pygments_lexer": "ipython3",
   "version": "3.9.7"
  }
 },
 "nbformat": 4,
 "nbformat_minor": 5
}
